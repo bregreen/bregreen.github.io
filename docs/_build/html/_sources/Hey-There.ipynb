{
 "cells": [
  {
   "cell_type": "markdown",
   "metadata": {},
   "source": [
    "# Let's Scrape Twitter! (w/ Python)\n",
    "\n",
    "**A demo by [Breanna E. Green ](https://bregreen.github.io/) // Powered by [Jupyter Book](https://jupyterbook.org/)** \n",
    "\n",
    "   This webpage contains materials for a simple introduction to scraping content from Twitter. I created it present to colleagues and friends at Cornell in 2021 Spring (so if you are seeing this many moons in the future... brace yourself for this relic). A quick snippet about me -- I am a PhD Student in the [Information Science](https://infosci.cornell.edu/research) Department who's main research interest is how activist and extremist ideologies are developed and manifested online, particularly using social media.\n",
    "\n",
    " <img src=\"logo.PNG\" alt=\"Cartoon version of B. E. Green\" width=\"200\"/>\n",
    "\n",
    " **How are we going to do this?** \n",
    "\n",
    "  Let's get the core information out of the way. We will breeze through most of that (hopefully in about 5-10 minutes). Then we can talk through some demos and answer really good questions sent to me.\n",
    "  \n",
    "These questions/topics included things like:\n",
    "+ How to gather tweets from different users?\n",
    "    * How many to gather from each person? Are there norms/conventions in research for this? Without a specific question on the topic (i.e., I don’t think I really care about how many we get), what is “standard practice”?\n",
    "    * Which tweets to gather? Random selection, most recent, most liked, etc? Again, absent a more specific question, are there norms/conventions for this?\n",
    "+ How to diagnose political ideology?\n",
    "    * How do we determine each user’s political ideology, on some scale from “Very Liberal” to “Very Conservative”?\n",
    "+ Descriptive stats on tweets?\n",
    "    * Frequency of words like “we, us, our, ours”\n",
    "\n",
    "**Acknowledgments**\n",
    "    I only learned how to develop this page after seeing the magnificent course materials of [Melanine Walsh](https://github.com/melaniewalsh/Intro-Cultural-Analytics), who themselves cite the works of [Lauren Klein](https://github.com/laurenfklein/emory-qtm340), [David Mimno](https://mimno.infosci.cornell.edu/info3350/), and [Allison Parrish](https://github.com/aparrish/rwet). Many, many thanks for such a beautiful and informative site!\n",
    "    \n",
    "   Second, many thanks to friends in the [THE SOCIAL PERCEPTION AND INTERGROUP (IN)EQUALITY LAB](http://www.kroschlab.com/) for whom I motivated to work on this! Otherwise, it might have been a powerpoint. *Crowd boos in dissatisfaction.*"
   ]
  },
  {
   "cell_type": "code",
   "execution_count": null,
   "metadata": {},
   "outputs": [],
   "source": []
  }
 ],
 "metadata": {
  "kernelspec": {
   "display_name": "Python 3",
   "language": "python",
   "name": "python3"
  },
  "language_info": {
   "codemirror_mode": {
    "name": "ipython",
    "version": 3
   },
   "file_extension": ".py",
   "mimetype": "text/x-python",
   "name": "python",
   "nbconvert_exporter": "python",
   "pygments_lexer": "ipython3",
   "version": "3.8.5"
  }
 },
 "nbformat": 4,
 "nbformat_minor": 4
}
