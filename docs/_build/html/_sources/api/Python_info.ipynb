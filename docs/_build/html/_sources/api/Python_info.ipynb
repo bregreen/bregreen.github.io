{
 "cells": [
  {
   "cell_type": "markdown",
   "metadata": {},
   "source": [
    "# Some presentation notes"
   ]
  },
  {
   "cell_type": "markdown",
   "metadata": {},
   "source": [
    "## Using Python Here\n",
    "\n",
    "I hope you use it because I have no idea how to do this in R! But I will find resources for R users that makes this a breeze ASAP. \n",
    "\n",
    "To collect Twitter data, we're going to work with the Twitter API. To get access the Twitter API, we first need to:\n",
    "\n",
    "1. Apply for a Twitter developer account\n",
    "\n",
    "2. Create a Twitter \"app\"\n",
    "\n",
    "3. Get coding"
   ]
  },
  {
   "cell_type": "code",
   "execution_count": null,
   "metadata": {},
   "outputs": [],
   "source": []
  }
 ],
 "metadata": {
  "kernelspec": {
   "display_name": "Python 3",
   "language": "python",
   "name": "python3"
  },
  "language_info": {
   "codemirror_mode": {
    "name": "ipython",
    "version": 3
   },
   "file_extension": ".py",
   "mimetype": "text/x-python",
   "name": "python",
   "nbconvert_exporter": "python",
   "pygments_lexer": "ipython3",
   "version": "3.8.5"
  }
 },
 "nbformat": 4,
 "nbformat_minor": 4
}
