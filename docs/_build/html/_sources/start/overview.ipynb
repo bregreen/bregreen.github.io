{
 "cells": [
  {
   "cell_type": "markdown",
   "metadata": {},
   "source": [
    "# Overview\n",
    "\n",
    "\n",
    "## Why scrape?\n",
    "\n",
    "Sometimes we are interested in the conversations, content, and context of interactions happening on the internet. Often, this involves finding ways to extract this information in organized and informative ways based on the source we are examining -- Facebook, Twitter, Reddit, Gab, etc.\n",
    "\n",
    "As a point of necessary discussion -- some might find these ways to be legally or morally questionable. This is a conversation certainly worth exploring and I implore you to always keep this in mind. \n",
    "\n",
    "Talk to your IRB, experts in the field, the actual website of interest, and/or Google. \n",
    "\n",
    "\n",
    "## Tell me the ways!\n",
    "\n",
    "There are too many to name!\n",
    "\n",
    "But some of my favorites involve: \n",
    "* [Requests](https://docs.python-requests.org/en/master/user/quickstart/)\n",
    "* [BeautfulSoup](https://www.crummy.com/software/BeautifulSoup/bs4/doc/)\n",
    "* APIs - [Twitter](https://developer.twitter.com/en/docs/twitter-api), [Youtube](https://developers.google.com/youtube/v3)\n",
    "* [Tweepy](https://docs.tweepy.org/en/latest/)\n",
    "* [Twarc](https://scholarslab.github.io/learn-twarc/)\n",
    "\n",
    "But people might build automatic web scrapers or crawlers (Spiders) unique to their needs, or publically available options such as:\n",
    "* [Scrapy](https://scrapy.org/)\n",
    "* [Bathyscaphe](https://github.com/darkspot-org) (an intersting one I found for the DarkWeb)"
   ]
  },
  {
   "cell_type": "code",
   "execution_count": null,
   "metadata": {},
   "outputs": [],
   "source": []
  }
 ],
 "metadata": {
  "kernelspec": {
   "display_name": "Python 3",
   "language": "python",
   "name": "python3"
  },
  "language_info": {
   "codemirror_mode": {
    "name": "ipython",
    "version": 3
   },
   "file_extension": ".py",
   "mimetype": "text/x-python",
   "name": "python",
   "nbconvert_exporter": "python",
   "pygments_lexer": "ipython3",
   "version": "3.8.5"
  }
 },
 "nbformat": 4,
 "nbformat_minor": 4
}
