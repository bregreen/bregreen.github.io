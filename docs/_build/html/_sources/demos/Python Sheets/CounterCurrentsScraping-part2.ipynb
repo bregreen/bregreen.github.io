{
 "cells": [
  {
   "cell_type": "markdown",
   "metadata": {},
   "source": [
    "# Scraping Counter-Currents"
   ]
  },
  {
   "cell_type": "code",
   "execution_count": 1,
   "metadata": {},
   "outputs": [],
   "source": [
    "# Imports\n",
    "\n",
    "from   collections import Counter\n",
    "import numpy as np\n",
    "import os\n",
    "import random\n",
    "import requests\n",
    "import spacy\n",
    "from collections import defaultdict\n",
    "import string \n",
    "import pandas as pd\n",
    "from bs4 import BeautifulSoup\n",
    "from glob import glob\n",
    "import statsmodels.stats.api as sms\n",
    "from scipy import stats"
   ]
  },
  {
   "cell_type": "code",
   "execution_count": 2,
   "metadata": {},
   "outputs": [],
   "source": [
    "import csv\n",
    "\n",
    "article_url_list_ = []\n",
    "\n",
    "with open('urllist2020-11-29.csv', 'r') as file:\n",
    "    reader = csv.reader(file)\n",
    "    for row in reader:\n",
    "        article_url_list_.append(row)\n",
    "        \n"
   ]
  },
  {
   "cell_type": "code",
   "execution_count": 3,
   "metadata": {},
   "outputs": [],
   "source": [
    "flat_list = [item for sublist in article_url_list_ for item in sublist]"
   ]
  },
  {
   "cell_type": "code",
   "execution_count": 4,
   "metadata": {},
   "outputs": [
    {
     "name": "stdout",
     "output_type": "stream",
     "text": [
      "Today's date: 2020-11-30\n"
     ]
    }
   ],
   "source": [
    "from datetime import date\n",
    "\n",
    "today = str(date.today())\n",
    "print(\"Today's date:\", today)"
   ]
  },
  {
   "cell_type": "code",
   "execution_count": 7,
   "metadata": {},
   "outputs": [],
   "source": [
    "def PageSuccess(page):\n",
    "    if page.status_code == 200:\n",
    "        print('Success!')\n",
    "    else:\n",
    "        print(\"Page error occured.\")"
   ]
  },
  {
   "cell_type": "code",
   "execution_count": 12,
   "metadata": {},
   "outputs": [
    {
     "ename": "SyntaxError",
     "evalue": "invalid syntax (<ipython-input-12-5725a054c7fd>, line 5)",
     "output_type": "error",
     "traceback": [
      "\u001b[0;36m  File \u001b[0;32m\"<ipython-input-12-5725a054c7fd>\"\u001b[0;36m, line \u001b[0;32m5\u001b[0m\n\u001b[0;31m    PageSuccess(soup3)\u001b[0m\n\u001b[0m    ^\u001b[0m\n\u001b[0;31mSyntaxError\u001b[0m\u001b[0;31m:\u001b[0m invalid syntax\n"
     ]
    }
   ],
   "source": [
    "print(flat_list[:15])\n",
    "\n",
    "for URL in flat_list[1:10]:\n",
    "    soup3 = BeautifulSoup(requests.get(str()\"'\"+ URL+ \"'\").content, 'html.parser')\n",
    "    PageSuccess(soup3)"
   ]
  },
  {
   "cell_type": "code",
   "execution_count": 8,
   "metadata": {},
   "outputs": [
    {
     "ename": "AttributeError",
     "evalue": "'NoneType' object has no attribute 'find'",
     "output_type": "error",
     "traceback": [
      "\u001b[0;31m---------------------------------------------------------------------------\u001b[0m",
      "\u001b[0;31mAttributeError\u001b[0m                            Traceback (most recent call last)",
      "\u001b[0;32m<ipython-input-8-ce549aa392ce>\u001b[0m in \u001b[0;36m<module>\u001b[0;34m\u001b[0m\n\u001b[1;32m     19\u001b[0m     \u001b[0;32melse\u001b[0m\u001b[0;34m:\u001b[0m\u001b[0;34m\u001b[0m\u001b[0;34m\u001b[0m\u001b[0m\n\u001b[1;32m     20\u001b[0m         \u001b[0;32mpass\u001b[0m\u001b[0;34m\u001b[0m\u001b[0;34m\u001b[0m\u001b[0m\n\u001b[0;32m---> 21\u001b[0;31m     \u001b[0;32mif\u001b[0m \u001b[0msoup3\u001b[0m\u001b[0;34m.\u001b[0m\u001b[0mfind\u001b[0m\u001b[0;34m(\u001b[0m\u001b[0;34m'div'\u001b[0m\u001b[0;34m,\u001b[0m \u001b[0mclass_\u001b[0m\u001b[0;34m=\u001b[0m\u001b[0;34m\"entry-utility\"\u001b[0m\u001b[0;34m)\u001b[0m\u001b[0;34m.\u001b[0m\u001b[0mfind\u001b[0m\u001b[0;34m(\u001b[0m\u001b[0;34m'span'\u001b[0m\u001b[0;34m,\u001b[0m \u001b[0mclass_\u001b[0m\u001b[0;34m=\u001b[0m\u001b[0;34m'entry-date date updated'\u001b[0m\u001b[0;34m)\u001b[0m\u001b[0;34m.\u001b[0m\u001b[0mtext\u001b[0m \u001b[0;34m!=\u001b[0m \u001b[0;32mNone\u001b[0m\u001b[0;34m:\u001b[0m\u001b[0;34m\u001b[0m\u001b[0;34m\u001b[0m\u001b[0m\n\u001b[0m\u001b[1;32m     22\u001b[0m         \u001b[0mpubdate\u001b[0m \u001b[0;34m=\u001b[0m \u001b[0msoup3\u001b[0m\u001b[0;34m.\u001b[0m\u001b[0mfind\u001b[0m\u001b[0;34m(\u001b[0m\u001b[0;34m'div'\u001b[0m\u001b[0;34m,\u001b[0m \u001b[0mclass_\u001b[0m\u001b[0;34m=\u001b[0m\u001b[0;34m\"entry-utility\"\u001b[0m\u001b[0;34m)\u001b[0m\u001b[0;34m.\u001b[0m\u001b[0mfind\u001b[0m\u001b[0;34m(\u001b[0m\u001b[0;34m'span'\u001b[0m\u001b[0;34m,\u001b[0m \u001b[0mclass_\u001b[0m\u001b[0;34m=\u001b[0m\u001b[0;34m'entry-date date updated'\u001b[0m\u001b[0;34m)\u001b[0m\u001b[0;34m.\u001b[0m\u001b[0mtext\u001b[0m\u001b[0;34m\u001b[0m\u001b[0;34m\u001b[0m\u001b[0m\n\u001b[1;32m     23\u001b[0m     \u001b[0;32melse\u001b[0m\u001b[0;34m:\u001b[0m\u001b[0;34m\u001b[0m\u001b[0;34m\u001b[0m\u001b[0m\n",
      "\u001b[0;31mAttributeError\u001b[0m: 'NoneType' object has no attribute 'find'"
     ]
    }
   ],
   "source": [
    "# Holder/Dictionary\n",
    "text_data2 = {}\n",
    "\n",
    "#Batch2\n",
    "\n",
    "for URL in flat_list[1999:2500]:\n",
    "    url = URL\n",
    "    soup3 = BeautifulSoup(requests.get(str(URL)).content, 'html.parser')\n",
    "    if soup3.find('h1', class_=\"entry-title\").text != None:\n",
    "        title = soup3.find('h1', class_=\"entry-title\").text\n",
    "    else:\n",
    "        title = 'NONE' + str(url)\n",
    "    title2 = soup3.title.text\n",
    "    text = soup3.find('div', class_=\"entry-content\").text\n",
    "    author = 'IDK'\n",
    "    checkauthor = soup3.find('span', class_='author vcard')\n",
    "    if checkauthor != None:\n",
    "        author = checkauthor\n",
    "    else:\n",
    "        pass\n",
    "    if soup3.find('div', class_=\"entry-utility\").find('span', class_='entry-date date updated').text != None:\n",
    "        pubdate = soup3.find('div', class_=\"entry-utility\").find('span', class_='entry-date date updated').text\n",
    "    else:\n",
    "        pubdate = 'NONE'\n",
    "    if soup3.find('div', class_=\"entry-utility\").find('span', class_='cat-links').text != None:\n",
    "        origpubtag = soup3.find('div', class_=\"entry-utility\").find('span', class_='cat-links').text\n",
    "    else:\n",
    "        origpubtag = 'None'\n",
    "    if soup3.find('div', class_=\"entry-utility\").find('span', class_='tag-links') != None:\n",
    "        taglinks = soup3.find('div', class_=\"entry-utility\").find('span', class_='tag-links')\n",
    "    else:\n",
    "        taglinks = 'None'\n",
    "    tagslist = []\n",
    "    if taglinks != 'None':\n",
    "        tags = taglinks.find_all('a')\n",
    "        for link in tags:\n",
    "            addtag = link.get_text()\n",
    "            tagslist.append(addtag)\n",
    "    else:\n",
    "        tagslist.append('NONE')\n",
    "    text_data2[title] = {}\n",
    "    text_data2[title]['url'] = url\n",
    "    text_data2[title]['author'] = author\n",
    "    text_data2[title]['ext_title'] = title2\n",
    "    text_data2[title]['content'] = text\n",
    "    text_data2[title]['pubdate'] = pubdate\n",
    "    text_data2[title]['pubbed_in'] = origpubtag\n",
    "    text_data2[title]['other_tags'] = tagslist"
   ]
  },
  {
   "cell_type": "code",
   "execution_count": null,
   "metadata": {},
   "outputs": [],
   "source": [
    "\n",
    "for URL in flat_list[2500:3000]:\n",
    "    url = URL\n",
    "    soup3 = BeautifulSoup(requests.get(str(URL)).content, 'html.parser')\n",
    "    if soup3.find('h1', class_=\"entry-title\").text != None:\n",
    "        title = soup3.find('h1', class_=\"entry-title\").text\n",
    "    else:\n",
    "        title = 'NONE' + str(url)\n",
    "    title2 = soup3.title.text\n",
    "    text = soup3.find('div', class_=\"entry-content\").text\n",
    "    author = 'IDK'\n",
    "    checkauthor = soup3.find('span', class_='author vcard')\n",
    "    if checkauthor != None:\n",
    "        author = checkauthor\n",
    "    else:\n",
    "        pass\n",
    "    pubdate = soup3.find('div', class_=\"entry-utility\").find('span', class_='entry-date date updated').text\n",
    "    origpubtag = soup3.find('div', class_=\"entry-utility\").find('span', class_='cat-links').text\n",
    "    taglinks = soup3.find('div', class_=\"entry-utility\").find('span', class_='tag-links')\n",
    "    tagslist = []\n",
    "    if taglinks != None:\n",
    "        tags = taglinks.find_all('a')\n",
    "        for link in tags:\n",
    "            addtag = link.get_text()\n",
    "            tagslist.append(addtag)\n",
    "    else:\n",
    "        tagslist.append('NONE')\n",
    "    text_data2[title] = {}\n",
    "    text_data2[title]['url'] = url\n",
    "    text_data2[title]['author'] = author\n",
    "    text_data2[title]['ext_title'] = title2\n",
    "    text_data2[title]['content'] = text\n",
    "    text_data2[title]['pubdate'] = pubdate\n",
    "    text_data2[title]['pubbed_in'] = origpubtag\n",
    "    text_data2[title]['other_tags'] = tagslist"
   ]
  },
  {
   "cell_type": "code",
   "execution_count": null,
   "metadata": {},
   "outputs": [],
   "source": [
    "for URL in article_url_list_[3000:3500]:\n",
    "    url = URL\n",
    "    soup3 = BeautifulSoup(requests.get(str(URL)).content, 'html.parser')\n",
    "    if soup3.find('h1', class_=\"entry-title\").text != None:\n",
    "        title = soup3.find('h1', class_=\"entry-title\").text\n",
    "    else:\n",
    "        title = 'NONE' + str(url)\n",
    "    title2 = soup3.title.text\n",
    "    text = soup3.find('div', class_=\"entry-content\").text\n",
    "    author = 'IDK'\n",
    "    checkauthor = soup3.find('span', class_='author vcard')\n",
    "    if checkauthor != None:\n",
    "        author = checkauthor\n",
    "    else:\n",
    "        pass\n",
    "    pubdate = soup3.find('div', class_=\"entry-utility\").find('span', class_='entry-date date updated').text\n",
    "    origpubtag = soup3.find('div', class_=\"entry-utility\").find('span', class_='cat-links').text\n",
    "    taglinks = soup3.find('div', class_=\"entry-utility\").find('span', class_='tag-links')\n",
    "    tagslist = []\n",
    "    if taglinks != None:\n",
    "        tags = taglinks.find_all('a')\n",
    "        for link in tags:\n",
    "            addtag = link.get_text()\n",
    "            tagslist.append(addtag)\n",
    "    else:\n",
    "        tagslist.append('NONE')\n",
    "    text_data2[title] = {}\n",
    "    text_data2[title]['url'] = url\n",
    "    text_data2[title]['author'] = author\n",
    "    text_data2[title]['ext_title'] = title2\n",
    "    text_data2[title]['content'] = text\n",
    "    text_data2[title]['pubdate'] = pubdate\n",
    "    text_data2[title]['pubbed_in'] = origpubtag\n",
    "    text_data2[title]['other_tags'] = tagslist"
   ]
  },
  {
   "cell_type": "code",
   "execution_count": null,
   "metadata": {},
   "outputs": [],
   "source": [
    "for URL in article_url_list_[3500:]:\n",
    "    url = URL\n",
    "    soup3 = BeautifulSoup(requests.get(str(URL)).content, 'html.parser')\n",
    "    if soup3.find('h1', class_=\"entry-title\").text != None:\n",
    "        title = soup3.find('h1', class_=\"entry-title\").text\n",
    "    else:\n",
    "        title = 'NONE' + str(url)\n",
    "    title2 = soup3.title.text\n",
    "    text = soup3.find('div', class_=\"entry-content\").text\n",
    "    author = 'IDK'\n",
    "    checkauthor = soup3.find('span', class_='author vcard')\n",
    "    if checkauthor != None:\n",
    "        author = checkauthor\n",
    "    else:\n",
    "        pass\n",
    "    pubdate = soup3.find('div', class_=\"entry-utility\").find('span', class_='entry-date date updated').text\n",
    "    origpubtag = soup3.find('div', class_=\"entry-utility\").find('span', class_='cat-links').text\n",
    "    taglinks = soup3.find('div', class_=\"entry-utility\").find('span', class_='tag-links')\n",
    "    tagslist = []\n",
    "    if taglinks != None:\n",
    "        tags = taglinks.find_all('a')\n",
    "        for link in tags:\n",
    "            addtag = link.get_text()\n",
    "            tagslist.append(addtag)\n",
    "    else:\n",
    "        tagslist.append('NONE')\n",
    "    text_data2[title] = {}\n",
    "    text_data2[title]['url'] = url\n",
    "    text_data2[title]['author'] = author\n",
    "    text_data2[title]['ext_title'] = title2\n",
    "    text_data2[title]['content'] = text\n",
    "    text_data2[title]['pubdate'] = pubdate\n",
    "    text_data2[title]['pubbed_in'] = origpubtag\n",
    "    text_data2[title]['other_tags'] = tagslist"
   ]
  },
  {
   "cell_type": "code",
   "execution_count": null,
   "metadata": {},
   "outputs": [],
   "source": [
    "a_text2 = pd.DataFrame(text_data2).T\n",
    "\n",
    "#pulled at date save to txt & csv\n",
    "a_text2.to_csv(r'CounterCurrentsData2pulled_' + today + '.txt')\n",
    "a_text2.to_csv(r'CounterCurrentsData2pulled_' + today + '.csv')\n"
   ]
  },
  {
   "cell_type": "code",
   "execution_count": null,
   "metadata": {},
   "outputs": [],
   "source": [
    "print(len(text_data2['url'].values))"
   ]
  },
  {
   "cell_type": "code",
   "execution_count": null,
   "metadata": {},
   "outputs": [],
   "source": [
    "pd.set_option('display.max_rows', None)\n",
    "display(text_data2.head())"
   ]
  },
  {
   "cell_type": "code",
   "execution_count": null,
   "metadata": {},
   "outputs": [],
   "source": [
    "text_data2.to_pickle(r'CC_all_pickle2' + today + '.pkl')"
   ]
  },
  {
   "cell_type": "code",
   "execution_count": null,
   "metadata": {},
   "outputs": [],
   "source": []
  }
 ],
 "metadata": {
  "kernelspec": {
   "display_name": "Python 3",
   "language": "python",
   "name": "python3"
  },
  "language_info": {
   "codemirror_mode": {
    "name": "ipython",
    "version": 3
   },
   "file_extension": ".py",
   "mimetype": "text/x-python",
   "name": "python",
   "nbconvert_exporter": "python",
   "pygments_lexer": "ipython3",
   "version": "3.8.3"
  }
 },
 "nbformat": 4,
 "nbformat_minor": 4
}
