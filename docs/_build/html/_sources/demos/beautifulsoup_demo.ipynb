{
 "cells": [
  {
   "cell_type": "markdown",
   "metadata": {},
   "source": [
    "# Scraping Counter-Currents\n",
    "    Note: This has been edited to scrape the website in small batches. You can't run this freely without making changes."
   ]
  },
  {
   "cell_type": "code",
   "execution_count": 1,
   "metadata": {},
   "outputs": [],
   "source": [
    "# Imports\n",
    "\n",
    "from   collections import Counter\n",
    "import numpy as np\n",
    "import os\n",
    "import random\n",
    "import requests\n",
    "import spacy\n",
    "from collections import defaultdict\n",
    "import string \n",
    "import pandas as pd\n",
    "from bs4 import BeautifulSoup\n",
    "from glob import glob\n",
    "import statsmodels.stats.api as sms\n",
    "from scipy import stats"
   ]
  },
  {
   "cell_type": "code",
   "execution_count": 2,
   "metadata": {},
   "outputs": [],
   "source": [
    "### Call the Main page of interest - Counter Currents\n",
    "mainpageURL = 'https://counter-currents.com'\n",
    "page = requests.get(mainpageURL)"
   ]
  },
  {
   "cell_type": "code",
   "execution_count": 3,
   "metadata": {},
   "outputs": [],
   "source": [
    "## Check Page Pull Success\n",
    "def PageSuccess(page):\n",
    "    if page.status_code == 200:\n",
    "        print('Success!')\n",
    "    else:\n",
    "        print(\"Page error occured.\")"
   ]
  },
  {
   "cell_type": "code",
   "execution_count": 4,
   "metadata": {},
   "outputs": [
    {
     "name": "stdout",
     "output_type": "stream",
     "text": [
      "Success!\n"
     ]
    }
   ],
   "source": [
    "PageSuccess(page)"
   ]
  },
  {
   "cell_type": "code",
   "execution_count": 5,
   "metadata": {},
   "outputs": [],
   "source": [
    "## Run Beautiful Soup on Main page\n",
    "\n",
    "soup = BeautifulSoup(page.content, 'html.parser')\n",
    "\n",
    "## Pulling URLs for archives section into list\n",
    "archives = soup.find(id=\"archives-2\")\n",
    "#print(archives.prettify())\n",
    "archive_months = archives.find_all('li')\n"
   ]
  },
  {
   "cell_type": "code",
   "execution_count": 6,
   "metadata": {},
   "outputs": [
    {
     "name": "stdout",
     "output_type": "stream",
     "text": [
      "How many months worth of archives did I pull?:  126 \n",
      " Years:  10.5\n"
     ]
    }
   ],
   "source": [
    "## How many months of archives did I pull?\n",
    "\n",
    "print(\"How many months worth of archives did I pull?: \", len(archive_months), '\\n', \"Years: \", len(archive_months)/12)\n",
    "#display(archive_months)\n"
   ]
  },
  {
   "cell_type": "code",
   "execution_count": 7,
   "metadata": {},
   "outputs": [],
   "source": [
    "## For each month in archive, pull link into list and provide details if wanted/needed\n",
    "\n",
    "archive_url_list = []\n",
    "\n",
    "for a_month in archive_months:\n",
    "    link = a_month.find('a')['href']\n",
    "    archive_url_list.append(link)\n",
    "    "
   ]
  },
  {
   "cell_type": "code",
   "execution_count": 8,
   "metadata": {},
   "outputs": [
    {
     "name": "stdout",
     "output_type": "stream",
     "text": [
      "Does this count match the above month count?:  True\n"
     ]
    }
   ],
   "source": [
    "print(\"Does this count match the above month count?: \", len(archive_url_list)==len(archive_months))"
   ]
  },
  {
   "cell_type": "code",
   "execution_count": 9,
   "metadata": {},
   "outputs": [],
   "source": [
    "## For each article in the archive month list, get url\n",
    "\n",
    "\n",
    "article_url_list_ = []\n",
    "\n",
    "for URL in archive_url_list:\n",
    "    soup2 = BeautifulSoup(requests.get(URL).content, 'html.parser')\n",
    "    articles = soup2.find_all('h2', class_=\"entry-title\")\n",
    "    for art in articles:\n",
    "        link_a = art.find('a')['href']\n",
    "        article_url_list_.append(link_a)  \n",
    "\n"
   ]
  },
  {
   "cell_type": "code",
   "execution_count": 10,
   "metadata": {},
   "outputs": [
    {
     "name": "stdout",
     "output_type": "stream",
     "text": [
      "How many article urls did I pull?:  3780 \n",
      "\n",
      " ['https://counter-currents.com/2020/11/the-counter-currents-2020-fundraiser-our-10000-matching-grant-livestreams-with-millennial-woes-endeavour/', 'https://counter-currents.com/2020/11/sun-and-steel/', 'https://counter-currents.com/2020/11/fox-news-the-boomer-question/']\n"
     ]
    }
   ],
   "source": [
    "## How many article urls did I pull?\n",
    "\n",
    "print(\"How many article urls did I pull?: \", len(article_url_list_), '\\n'*2, article_url_list_[:3])"
   ]
  },
  {
   "cell_type": "code",
   "execution_count": 11,
   "metadata": {},
   "outputs": [
    {
     "name": "stdout",
     "output_type": "stream",
     "text": [
      "Today's date: 2020-11-30\n"
     ]
    }
   ],
   "source": [
    "from datetime import date\n",
    "\n",
    "today = str(date.today())\n",
    "print(\"Today's date:\", today)"
   ]
  },
  {
   "cell_type": "code",
   "execution_count": 12,
   "metadata": {},
   "outputs": [],
   "source": [
    "# Save URL list so I don't repeat\n",
    "#a_urllist = pd.DataFrame(article_url_list_)\n",
    "#a_urllist.to_csv(r'urllist' + today + '.csv', index=False) \n"
   ]
  },
  {
   "cell_type": "code",
   "execution_count": 12,
   "metadata": {},
   "outputs": [],
   "source": [
    "# Holder/Dictionary\n",
    "text_data = {}\n",
    "\n",
    "\n",
    "# Batch Pulls\n",
    "for URL in article_url_list_[1999:2025]:\n",
    "    url = URL\n",
    "    soup3 = BeautifulSoup(requests.get(URL).content, 'html.parser')\n",
    "    if soup3.find('h1', class_=\"entry-title\").text != None:\n",
    "        title = soup3.find('h1', class_=\"entry-title\").text\n",
    "    else:\n",
    "        title = 'NONE' + str(url) \n",
    "    title2 = soup3.title.text\n",
    "    text = soup3.find('div', class_=\"entry-content\").text\n",
    "    author = soup3.find('span', class_='author vcard').text\n",
    "    articledeets = soup3.find('div', class_=\"entry-utility\")\n",
    "    pubdate = soup3.find('div', class_=\"entry-utility\").find('span', class_='entry-date date updated').text\n",
    "    origpubtag = soup3.find('div', class_=\"entry-utility\").find('span', class_='cat-links').text\n",
    "    taglinks = soup3.find('div', class_=\"entry-utility\").find('span', class_='tag-links')\n",
    "    tagslist = []\n",
    "    if taglinks != None:\n",
    "        tags = taglinks.find_all('a')\n",
    "        for link in tags:\n",
    "            addtag = link.get_text()\n",
    "            tagslist.append(addtag)\n",
    "    else:\n",
    "        tagslist.append('NONE')\n",
    "    text_data[title] = {}\n",
    "    text_data[title]['url'] = url\n",
    "    text_data[title]['author'] = author\n",
    "    text_data[title]['ext_title'] = title2\n",
    "    text_data[title]['content'] = text\n",
    "    text_data[title]['pubdate'] = pubdate\n",
    "    text_data[title]['pubbed_in'] = origpubtag\n",
    "    text_data[title]['other_tags'] = tagslist\n",
    "\n",
    "    "
   ]
  },
  {
   "cell_type": "code",
   "execution_count": 13,
   "metadata": {},
   "outputs": [],
   "source": [
    "# Batch Pulls\n",
    "for URL in article_url_list_[2025:2225]:\n",
    "    url = URL\n",
    "    soup3 = BeautifulSoup(requests.get(URL).content, 'html.parser')\n",
    "    if soup3.find('h1', class_=\"entry-title\").text != None:\n",
    "        title = soup3.find('h1', class_=\"entry-title\").text\n",
    "    else:\n",
    "        title = 'NONE' + str(url) \n",
    "    title2 = soup3.title.text\n",
    "    text = soup3.find('div', class_=\"entry-content\").text\n",
    "    author = soup3.find('span', class_='author vcard').text\n",
    "    articledeets = soup3.find('div', class_=\"entry-utility\")\n",
    "    pubdate = soup3.find('div', class_=\"entry-utility\").find('span', class_='entry-date date updated').text\n",
    "    origpubtag = soup3.find('div', class_=\"entry-utility\").find('span', class_='cat-links').text\n",
    "    taglinks = soup3.find('div', class_=\"entry-utility\").find('span', class_='tag-links')\n",
    "    tagslist = []\n",
    "    if taglinks != None:\n",
    "        tags = taglinks.find_all('a')\n",
    "        for link in tags:\n",
    "            addtag = link.get_text()\n",
    "            tagslist.append(addtag)\n",
    "    else:\n",
    "        tagslist.append('NONE')\n",
    "    text_data[title] = {}\n",
    "    text_data[title]['url'] = url\n",
    "    text_data[title]['author'] = author\n",
    "    text_data[title]['ext_title'] = title2\n",
    "    text_data[title]['content'] = text\n",
    "    text_data[title]['pubdate'] = pubdate\n",
    "    text_data[title]['pubbed_in'] = origpubtag\n",
    "    text_data[title]['other_tags'] = tagslist"
   ]
  },
  {
   "cell_type": "code",
   "execution_count": 43,
   "metadata": {},
   "outputs": [],
   "source": [
    "a_text = pd.DataFrame(text_data).T\n",
    "\n",
    "\n",
    "#pulled at date save to txt & csv\n",
    "a_text.to_csv(r'CounterCurrentsDatapulledtt_' + today + '.txt')\n",
    "a_text.to_csv(r'CounterCurrentsDatapulledtt_' + today + '.csv')"
   ]
  },
  {
   "cell_type": "code",
   "execution_count": 46,
   "metadata": {},
   "outputs": [
    {
     "name": "stdout",
     "output_type": "stream",
     "text": [
      "1083\n"
     ]
    }
   ],
   "source": [
    "print(len(a_text['url'].values))"
   ]
  },
  {
   "cell_type": "code",
   "execution_count": 69,
   "metadata": {},
   "outputs": [],
   "source": [
    "a_text2 = pd.DataFrame(text_data).T\n",
    "\n",
    "\n",
    "#pulled at date save to txt & csv\n",
    "a_text2.to_csv(r'CounterCurrentsDatapulledtttt_' + today + '.txt')\n",
    "a_text2.to_csv(r'CounterCurrentsDatapulledtttt_' + today + '.csv')"
   ]
  },
  {
   "cell_type": "code",
   "execution_count": 70,
   "metadata": {},
   "outputs": [
    {
     "name": "stdout",
     "output_type": "stream",
     "text": [
      "1699\n"
     ]
    }
   ],
   "source": [
    "print(len(a_text2['url'].values))"
   ]
  },
  {
   "cell_type": "code",
   "execution_count": 71,
   "metadata": {},
   "outputs": [
    {
     "data": {
      "text/html": [
       "<div>\n",
       "<style scoped>\n",
       "    .dataframe tbody tr th:only-of-type {\n",
       "        vertical-align: middle;\n",
       "    }\n",
       "\n",
       "    .dataframe tbody tr th {\n",
       "        vertical-align: top;\n",
       "    }\n",
       "\n",
       "    .dataframe thead th {\n",
       "        text-align: right;\n",
       "    }\n",
       "</style>\n",
       "<table border=\"1\" class=\"dataframe\">\n",
       "  <thead>\n",
       "    <tr style=\"text-align: right;\">\n",
       "      <th></th>\n",
       "      <th>url</th>\n",
       "      <th>author</th>\n",
       "      <th>ext_title</th>\n",
       "      <th>content</th>\n",
       "      <th>pubdate</th>\n",
       "      <th>pubbed_in</th>\n",
       "      <th>other_tags</th>\n",
       "    </tr>\n",
       "  </thead>\n",
       "  <tbody>\n",
       "    <tr>\n",
       "      <th>El Factor Moral, Parte 1</th>\n",
       "      <td>https://counter-currents.com/2015/05/el-factor...</td>\n",
       "      <td>Greg Johnson</td>\n",
       "      <td>Greg Johnson, \"El Factor Moral,\" Parte 1 | Cou...</td>\n",
       "      <td>\\nFélicien Rops, “Pornokratès,” 1878\\n2,361 wo...</td>\n",
       "      <td>May 27, 2015</td>\n",
       "      <td>This entry was posted in North American New Right</td>\n",
       "      <td>[articles, cynicism, ethics, Greg Johnson, in ...</td>\n",
       "    </tr>\n",
       "    <tr>\n",
       "      <th>Good Kill</th>\n",
       "      <td>https://counter-currents.com/2015/05/good-kill/</td>\n",
       "      <td>Trevor Lynch</td>\n",
       "      <td>Trevor Lynch reviews Good Kill | Counter-Currents</td>\n",
       "      <td>\\n870 words\\nGood Kill is an OK movie starring...</td>\n",
       "      <td>May 27, 2015</td>\n",
       "      <td>This entry was posted in North American New Right</td>\n",
       "      <td>[Afghanistan, Gattaca, movie reviews, North Am...</td>\n",
       "    </tr>\n",
       "    <tr>\n",
       "      <th>Remembering Louis-Ferdinand Céline: May 27, 1894–July 1, 1961</th>\n",
       "      <td>https://counter-currents.com/2015/05/rememberi...</td>\n",
       "      <td>Greg Johnson</td>\n",
       "      <td>Greg Johnson, Remembering Remembering Louis-Fe...</td>\n",
       "      <td>\\n162 words\\nLouis-Ferdinand Céline was the pe...</td>\n",
       "      <td>May 27, 2015</td>\n",
       "      <td>This entry was posted in North American New Right</td>\n",
       "      <td>[commemorations, fascism, Greg Johnson, litera...</td>\n",
       "    </tr>\n",
       "    <tr>\n",
       "      <th>Céline</th>\n",
       "      <td>https://counter-currents.com/2015/05/celine/</td>\n",
       "      <td>Leo Yankevich</td>\n",
       "      <td>Leo Yankevich, \"Céline\" | Counter-Currents</td>\n",
       "      <td>\\n64 words\\nThree pamphlets in which he spared...</td>\n",
       "      <td>May 26, 2015</td>\n",
       "      <td>This entry was posted in North American New Right</td>\n",
       "      <td>[France, Leo Yankevich, Louis-Ferdinand Céline...</td>\n",
       "    </tr>\n",
       "    <tr>\n",
       "      <th>The Enduring Reputation of Louis-Ferdinand Céline</th>\n",
       "      <td>https://counter-currents.com/2015/05/the-endur...</td>\n",
       "      <td>Margot Metroland</td>\n",
       "      <td>Margot Metroland, \"The Enduring Reputation of ...</td>\n",
       "      <td>\\n1,282 words\\n“The white people invented the ...</td>\n",
       "      <td>May 26, 2015</td>\n",
       "      <td>This entry was posted in North American New Right</td>\n",
       "      <td>[articles, collaborationism, France, Journey t...</td>\n",
       "    </tr>\n",
       "  </tbody>\n",
       "</table>\n",
       "</div>"
      ],
      "text/plain": [
       "                                                                                                  url  \\\n",
       "El Factor Moral, Parte 1                            https://counter-currents.com/2015/05/el-factor...   \n",
       "Good Kill                                             https://counter-currents.com/2015/05/good-kill/   \n",
       "Remembering Louis-Ferdinand Céline: May 27, 189...  https://counter-currents.com/2015/05/rememberi...   \n",
       "Céline                                                   https://counter-currents.com/2015/05/celine/   \n",
       "The Enduring Reputation of Louis-Ferdinand Céline   https://counter-currents.com/2015/05/the-endur...   \n",
       "\n",
       "                                                              author  \\\n",
       "El Factor Moral, Parte 1                                Greg Johnson   \n",
       "Good Kill                                               Trevor Lynch   \n",
       "Remembering Louis-Ferdinand Céline: May 27, 189...      Greg Johnson   \n",
       "Céline                                                 Leo Yankevich   \n",
       "The Enduring Reputation of Louis-Ferdinand Céline   Margot Metroland   \n",
       "\n",
       "                                                                                            ext_title  \\\n",
       "El Factor Moral, Parte 1                            Greg Johnson, \"El Factor Moral,\" Parte 1 | Cou...   \n",
       "Good Kill                                           Trevor Lynch reviews Good Kill | Counter-Currents   \n",
       "Remembering Louis-Ferdinand Céline: May 27, 189...  Greg Johnson, Remembering Remembering Louis-Fe...   \n",
       "Céline                                                     Leo Yankevich, \"Céline\" | Counter-Currents   \n",
       "The Enduring Reputation of Louis-Ferdinand Céline   Margot Metroland, \"The Enduring Reputation of ...   \n",
       "\n",
       "                                                                                              content  \\\n",
       "El Factor Moral, Parte 1                            \\nFélicien Rops, “Pornokratès,” 1878\\n2,361 wo...   \n",
       "Good Kill                                           \\n870 words\\nGood Kill is an OK movie starring...   \n",
       "Remembering Louis-Ferdinand Céline: May 27, 189...  \\n162 words\\nLouis-Ferdinand Céline was the pe...   \n",
       "Céline                                              \\n64 words\\nThree pamphlets in which he spared...   \n",
       "The Enduring Reputation of Louis-Ferdinand Céline   \\n1,282 words\\n“The white people invented the ...   \n",
       "\n",
       "                                                         pubdate  \\\n",
       "El Factor Moral, Parte 1                            May 27, 2015   \n",
       "Good Kill                                           May 27, 2015   \n",
       "Remembering Louis-Ferdinand Céline: May 27, 189...  May 27, 2015   \n",
       "Céline                                              May 26, 2015   \n",
       "The Enduring Reputation of Louis-Ferdinand Céline   May 26, 2015   \n",
       "\n",
       "                                                                                            pubbed_in  \\\n",
       "El Factor Moral, Parte 1                            This entry was posted in North American New Right   \n",
       "Good Kill                                           This entry was posted in North American New Right   \n",
       "Remembering Louis-Ferdinand Céline: May 27, 189...  This entry was posted in North American New Right   \n",
       "Céline                                              This entry was posted in North American New Right   \n",
       "The Enduring Reputation of Louis-Ferdinand Céline   This entry was posted in North American New Right   \n",
       "\n",
       "                                                                                           other_tags  \n",
       "El Factor Moral, Parte 1                            [articles, cynicism, ethics, Greg Johnson, in ...  \n",
       "Good Kill                                           [Afghanistan, Gattaca, movie reviews, North Am...  \n",
       "Remembering Louis-Ferdinand Céline: May 27, 189...  [commemorations, fascism, Greg Johnson, litera...  \n",
       "Céline                                              [France, Leo Yankevich, Louis-Ferdinand Céline...  \n",
       "The Enduring Reputation of Louis-Ferdinand Céline   [articles, collaborationism, France, Journey t...  "
      ]
     },
     "metadata": {},
     "output_type": "display_data"
    }
   ],
   "source": [
    "pd.set_option('display.max_rows', None)\n",
    "#val = text_data\n",
    "#display(val)\n",
    "display(a_text2.head())"
   ]
  },
  {
   "cell_type": "code",
   "execution_count": null,
   "metadata": {},
   "outputs": [],
   "source": []
  },
  {
   "cell_type": "code",
   "execution_count": null,
   "metadata": {},
   "outputs": [],
   "source": []
  }
 ],
 "metadata": {
  "kernelspec": {
   "display_name": "Python 3",
   "language": "python",
   "name": "python3"
  },
  "language_info": {
   "codemirror_mode": {
    "name": "ipython",
    "version": 3
   },
   "file_extension": ".py",
   "mimetype": "text/x-python",
   "name": "python",
   "nbconvert_exporter": "python",
   "pygments_lexer": "ipython3",
   "version": "3.8.5"
  }
 },
 "nbformat": 4,
 "nbformat_minor": 4
}
