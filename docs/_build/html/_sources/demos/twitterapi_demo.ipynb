{
 "cells": [
  {
   "cell_type": "code",
   "execution_count": 6,
   "metadata": {},
   "outputs": [
    {
     "name": "stdout",
     "output_type": "stream",
     "text": [
      "/Users/bgreen/Documents/Projects_ALL/gab_twitter\n",
      "/Users/bgreen/Documents/Projects_ALL/gab_twitter/Documents/gab_twitter/GAB_users.txt\n"
     ]
    }
   ],
   "source": [
    "#Imports and Installs\n",
    "\n",
    "#conda install -c conda-forge tweepy\n",
    "\n",
    "import json\n",
    "from   collections import defaultdict\n",
    "from   glob import glob\n",
    "import pandas as pd\n",
    "import numpy as np\n",
    "import os\n",
    "import string\n",
    "import sys\n",
    "import tweepy \n",
    "\n",
    "try:\n",
    "    import lzma\n",
    "except ImportError:\n",
    "    from backports import lzma\n",
    "    \n",
    "\n",
    "\n",
    "# Files and locations\n",
    "gab_file = os.path.join(sys.path[0], \"Documents/gab_twitter/GAB_users.txt\")\n",
    "\n",
    "print(sys.path[0])\n",
    "print(gab_file)"
   ]
  },
  {
   "cell_type": "code",
   "execution_count": 3,
   "metadata": {},
   "outputs": [],
   "source": [
    "#Tweepy\n",
    "#(https://www.geeksforgeeks.org/python-api-lookup_users-in-tweepy/)\n",
    "\n",
    "# assign the values accordingly \n",
    "consumer_key = \"Vt31zTtp08E1OgCkJM8ScqWqt\" \n",
    "consumer_secret = \"qE5GYzVS8VTP40GponmSyIrVuEowKqTjDDn5Gh3iY60GuqP21G\" \n",
    "access_token = \"1188495786801278981-Yr27ySCK1enHqe0dfjFsU2MeayfbmN\" \n",
    "access_token_secret = \"FK8xTPkGjOcG4qrcbKiU4VwBlj2cTPL79OSesLPCLVxpa\" \n",
    "  \n",
    "# authorization of consumer key and consumer secret \n",
    "auth = tweepy.OAuthHandler(consumer_key, consumer_secret) \n",
    "  \n",
    "# set access to user's access key and access secret  \n",
    "auth.set_access_token(access_token, access_token_secret) \n",
    "  \n",
    "# calling the api  \n",
    "api = tweepy.API(auth, wait_on_rate_limit=True, wait_on_rate_limit_notify=True) \n",
    "  "
   ]
  },
  {
   "cell_type": "code",
   "execution_count": 4,
   "metadata": {},
   "outputs": [
    {
     "name": "stdout",
     "output_type": "stream",
     "text": [
      "The id by twitter id is : 57741058\n",
      "The screen name by twitter id is : geeksforgeeks\n",
      "\n",
      "The id by twitter id is : 4802800777\n",
      "The screen name by twitter id is : PracticeGfG\n",
      "\n",
      "The id by twitter id is : 1037141442\n",
      "The screen name by twitter id is : GeeksQuiz\n",
      "\n",
      "The id by handle is : 57741058\n",
      "The screen name by handle is : geeksforgeeks\n",
      "\n",
      "The id by handle is : 4802800777\n",
      "The screen name by handle is : PracticeGfG\n",
      "\n",
      "The id by handle is : 1037141442\n",
      "The screen name by handle is : GeeksQuiz\n",
      "\n"
     ]
    }
   ],
   "source": [
    "## Test that this worked! (It does, keep it commented out)\n",
    "\n",
    "# list of user_ids \n",
    "user_ids = [57741058, 4802800777, 1037141442] \n",
    "  \n",
    "# getting the users by user_ids \n",
    "users = api.lookup_users(user_ids) \n",
    "  \n",
    "# printing the user details \n",
    "for user in users: \n",
    "    print(\"The id by twitter id is : \" + str(user.id)) \n",
    "    print(\"The screen name by twitter id is : \" + user.screen_name, end = \"\\n\\n\")\n",
    "    \n",
    "# list of screen_names \n",
    "handles = [\"geeksforgeeks\", \"PracticeGfG\", \"GeeksQuiz\"] \n",
    "  \n",
    "# getting the users by screen_names \n",
    "users = api.lookup_users(screen_names = handles) \n",
    "  \n",
    "# printing the user details \n",
    "for user in users: \n",
    "    print(\"The id by handle is : \" + str(user.id)) \n",
    "    print(\"The screen name by handle is : \" + user.screen_name, end = \"\\n\\n\") "
   ]
  },
  {
   "cell_type": "code",
   "execution_count": 9,
   "metadata": {},
   "outputs": [],
   "source": []
  },
  {
   "cell_type": "code",
   "execution_count": 10,
   "metadata": {},
   "outputs": [
    {
     "data": {
      "text/html": [
       "<div>\n",
       "<style scoped>\n",
       "    .dataframe tbody tr th:only-of-type {\n",
       "        vertical-align: middle;\n",
       "    }\n",
       "\n",
       "    .dataframe tbody tr th {\n",
       "        vertical-align: top;\n",
       "    }\n",
       "\n",
       "    .dataframe thead th {\n",
       "        text-align: right;\n",
       "    }\n",
       "</style>\n",
       "<table border=\"1\" class=\"dataframe\">\n",
       "  <thead>\n",
       "    <tr style=\"text-align: right;\">\n",
       "      <th></th>\n",
       "      <th>{\"bio\":\"\\\" Give A Man A Mask and He Will Tell You The Truth \\\" - Oscar Wilde  Please visit our news website http://www.thegoldwater.com/\",\"cover_url\":\"https://files.gab.ai/user/58ba61d3cf8d2.png\",\"created_utc\":1488326400,\"follower_count\":731,\"following_count\":531,\"id\":150160,\"is_accessible\":true,\"is_donor\":false,\"is_investor\":false,\"is_premium\":false,\"is_private\":false,\"is_pro\":false,\"is_tippable\":false,\"name\":\"[removed]\",\"picture_url\":\"[removed]\",\"picture_url_full\":\"[removed]\",\"post_count\":1903,\"premium_price\":null,\"retrieved_on\":1516640504,\"score\":1774,\"username\":\"DianaPrintz\",\"verified\":false,\"video_count\":0}</th>\n",
       "    </tr>\n",
       "  </thead>\n",
       "  <tbody>\n",
       "    <tr>\n",
       "      <th>0</th>\n",
       "      <td>{\"bio\":\"#Liberalist Facebook.com/LibertyNAK  |...</td>\n",
       "    </tr>\n",
       "    <tr>\n",
       "      <th>1</th>\n",
       "      <td>{\"bio\":\"Marine Carpenter Christian speak Russi...</td>\n",
       "    </tr>\n",
       "    <tr>\n",
       "      <th>2</th>\n",
       "      <td>{\"bio\":\"I am Peter Imanuelsen. Swedish freelan...</td>\n",
       "    </tr>\n",
       "    <tr>\n",
       "      <th>3</th>\n",
       "      <td>{\"bio\":\"Christian, Father, Husband, Brother, C...</td>\n",
       "    </tr>\n",
       "    <tr>\n",
       "      <th>4</th>\n",
       "      <td>{\"bio\":\"\\\"All censorships exist to prevent any...</td>\n",
       "    </tr>\n",
       "  </tbody>\n",
       "</table>\n",
       "</div>"
      ],
      "text/plain": [
       "  {\"bio\":\"\\\" Give A Man A Mask and He Will Tell You The Truth \\\" - Oscar Wilde  Please visit our news website http://www.thegoldwater.com/\",\"cover_url\":\"https://files.gab.ai/user/58ba61d3cf8d2.png\",\"created_utc\":1488326400,\"follower_count\":731,\"following_count\":531,\"id\":150160,\"is_accessible\":true,\"is_donor\":false,\"is_investor\":false,\"is_premium\":false,\"is_private\":false,\"is_pro\":false,\"is_tippable\":false,\"name\":\"[removed]\",\"picture_url\":\"[removed]\",\"picture_url_full\":\"[removed]\",\"post_count\":1903,\"premium_price\":null,\"retrieved_on\":1516640504,\"score\":1774,\"username\":\"DianaPrintz\",\"verified\":false,\"video_count\":0}\n",
       "0  {\"bio\":\"#Liberalist Facebook.com/LibertyNAK  |...                                                                                                                                                                                                                                                                                                                                                                                                                                                                                                                                                                                         \n",
       "1  {\"bio\":\"Marine Carpenter Christian speak Russi...                                                                                                                                                                                                                                                                                                                                                                                                                                                                                                                                                                                         \n",
       "2  {\"bio\":\"I am Peter Imanuelsen. Swedish freelan...                                                                                                                                                                                                                                                                                                                                                                                                                                                                                                                                                                                         \n",
       "3  {\"bio\":\"Christian, Father, Husband, Brother, C...                                                                                                                                                                                                                                                                                                                                                                                                                                                                                                                                                                                         \n",
       "4  {\"bio\":\"\\\"All censorships exist to prevent any...                                                                                                                                                                                                                                                                                                                                                                                                                                                                                                                                                                                         "
      ]
     },
     "execution_count": 10,
     "metadata": {},
     "output_type": "execute_result"
    }
   ],
   "source": []
  },
  {
   "cell_type": "code",
   "execution_count": null,
   "metadata": {},
   "outputs": [],
   "source": []
  }
 ],
 "metadata": {
  "kernelspec": {
   "display_name": "Python 3",
   "language": "python",
   "name": "python3"
  },
  "language_info": {
   "codemirror_mode": {
    "name": "ipython",
    "version": 3
   },
   "file_extension": ".py",
   "mimetype": "text/x-python",
   "name": "python",
   "nbconvert_exporter": "python",
   "pygments_lexer": "ipython3",
   "version": "3.8.5"
  }
 },
 "nbformat": 4,
 "nbformat_minor": 4
}
