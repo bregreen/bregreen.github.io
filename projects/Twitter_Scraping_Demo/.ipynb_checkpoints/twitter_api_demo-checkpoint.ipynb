{
 "cells": [
  {
   "cell_type": "raw",
   "metadata": {},
   "source": [
    "---\n",
    "title: \"Twitter API (+ Tweepy)\"\n",
    "author: \"A demo by [Breanna E. Green ](https://bregreen.github.io/) // Powered by [Quarto](https://quarto.org/docs/tools/jupyter-lab.html)\"\n",
    "format: \n",
    "  html:\n",
    "    code-fold: true\n",
    "    page-layout: full\n",
    "jupyter: python3\n",
    "execute: \n",
    "  enabled: false\n",
    "---"
   ]
  },
  {
   "cell_type": "code",
   "execution_count": null,
   "metadata": {},
   "outputs": [],
   "source": [
    "#Imports and Installs\n",
    "\n",
    "import json\n",
    "from   collections import defaultdict\n",
    "from   glob import glob\n",
    "import pandas as pd\n",
    "import numpy as np\n",
    "import os\n",
    "import string\n",
    "import sys\n",
    "import tweepy \n",
    "\n",
    "try:\n",
    "    import lzma\n",
    "except ImportError:\n",
    "    from backports import lzma"
   ]
  },
  {
   "cell_type": "markdown",
   "metadata": {},
   "source": [
    "### You will need your own keys here!"
   ]
  },
  {
   "cell_type": "code",
   "execution_count": null,
   "metadata": {},
   "outputs": [],
   "source": [
    "#Tweepy\n",
    "# Exmaple code from: (https://www.geeksforgeeks.org/python-api-lookup_users-in-tweepy/)\n",
    "\n",
    "# assign the values accordingly \n",
    "consumer_key = \"LETTERSANDNUMBERS\" \n",
    "consumer_secret = \"LETTERSANDNUMBERS\" \n",
    "access_token = \"LETTERSANDNUMBERS\" \n",
    "access_token_secret = \"LETTERSANDNUMBERS\" \n",
    "  \n",
    "# authorization of consumer key and consumer secret \n",
    "auth = tweepy.OAuthHandler(consumer_key, consumer_secret) \n",
    "  \n",
    "# set access to user's access key and access secret  \n",
    "auth.set_access_token(access_token, access_token_secret) \n",
    "  \n",
    "# calling the api  \n",
    "api = tweepy.API(auth, wait_on_rate_limit=True, wait_on_rate_limit_notify=True) \n",
    "  "
   ]
  },
  {
   "cell_type": "code",
   "execution_count": null,
   "metadata": {},
   "outputs": [],
   "source": [
    "## Test that this worked! (It does, keep it commented out)\n",
    "\n",
    "print(\"We can find users by userid: \\n\")\n",
    "# list of user_ids \n",
    "user_ids = [1188495786801278981, 17369110,  254791849]\n",
    "  \n",
    "# getting the users by user_ids \n",
    "users = api.lookup_users(user_ids) \n",
    "  \n",
    "# printing the user details \n",
    "for user in users: \n",
    "    print(\"The id by twitter id is : \" + str(user.id)) \n",
    "    print(\"The screen name by twitter id is : \" + user.screen_name, end = \"\\n\\n\")\n",
    "\n",
    "\n",
    "print('\\n', '___'*25, '\\n') \n",
    "    \n",
    "    \n",
    "print(\"Or we can find users by user handle: \\n\")\n",
    "# list of screen_names \n",
    "handles = [\"BreannaEGreen\", \"Cornell\", \"SciPyTip\"] \n",
    "  \n",
    "# getting the users by screen_names \n",
    "users = api.lookup_users(screen_names = handles) \n",
    "  \n",
    "# printing the user details \n",
    "for user in users: \n",
    "    print(\"The id by handle is : \" + str(user.id)) \n",
    "    print(\"The screen name by handle is : \" + user.screen_name, end = \"\\n\\n\") "
   ]
  },
  {
   "cell_type": "markdown",
   "metadata": {},
   "source": [
    "[Return to Twitter Scraping Demo Home Page](https://bregreen.github.io/projects/Twitter_Scraping_Demo/#)"
   ]
  },
  {
   "cell_type": "markdown",
   "metadata": {},
   "source": [
    "[Return to Blog Home Page](https://bregreen.github.io/blog.html#)"
   ]
  },
  {
   "cell_type": "markdown",
   "metadata": {},
   "source": [
    "[Return to Home](https://bregreen.github.io/#)"
   ]
  },
  {
   "cell_type": "code",
   "execution_count": null,
   "metadata": {},
   "outputs": [],
   "source": []
  }
 ],
 "metadata": {
  "kernelspec": {
   "display_name": "Python 3",
   "language": "python",
   "name": "python3"
  },
  "language_info": {
   "codemirror_mode": {
    "name": "ipython",
    "version": 3
   },
   "file_extension": ".py",
   "mimetype": "text/x-python",
   "name": "python",
   "nbconvert_exporter": "python",
   "pygments_lexer": "ipython3",
   "version": "3.8.5"
  }
 },
 "nbformat": 4,
 "nbformat_minor": 4
}
