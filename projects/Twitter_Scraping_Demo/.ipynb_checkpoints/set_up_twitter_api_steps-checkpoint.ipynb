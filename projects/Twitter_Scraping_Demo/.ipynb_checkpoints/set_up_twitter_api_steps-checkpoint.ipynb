{
 "cells": [
  {
   "cell_type": "markdown",
   "metadata": {},
   "source": [
    "# Setting Up Twitter API"
   ]
  },
  {
   "cell_type": "markdown",
   "metadata": {},
   "source": [
    "Great resource found here: https://mdl.library.utoronto.ca/technology/tutorials/scraping-tweets-using-python\n",
    "\n",
    "## What is an Application Programming Interface (API)\n",
    "\n",
    "   An API allows us to extract and interact with data directly from websites as well as other social networks, applications, and projects that make their data publicly available. They are built for data-sharing purposes and help to promote the use and further development of a site and its data. \n",
    "   \n",
    "   Twitter wants other developers to use, integrate, and build upon Twitter tools and data. The Twitter API is the main conduit by which these developers can do so.\n",
    "\n",
    "   The API can provide structured data as organized by the site itself -- You can be a bit more confident about the data you are pulling from an API.\n",
    "   \n",
    "   However, sometimes sites will restrict data access or require payment because __**$$**__.\n",
    "\n",
    "\n",
    "## 0. You need a Twitter Account\n",
    "\n",
    "### Create a Twitter account if you do not have one."
   ]
  },
  {
   "cell_type": "markdown",
   "metadata": {},
   "source": [
    "## 1. Apply for Twitter Developer Account\n",
    "\n",
    "### Developer? Sounds fancy...\n",
    "\n",
    "First step will be making a [developer account](https://developer.twitter.com/en/solutions/academic-research).\n",
    "\n",
    " - Go to https://dev.twitter.com/apps and log in with your Twitter credentials.\n"
   ]
  },
  {
   "cell_type": "markdown",
   "metadata": {},
   "source": [
    "## 2. Create an \"app\"\n",
    "\n",
    " - Click \"Create New App\"\n",
    "\n",
    " - Fill out the form and agree to the terms. Put in a dummy website if you don't have one you want to use.\n",
    "\n",
    " - On the next page, click the \"Keys and Access Tokens\" tab along the top, then scroll all the way down until you see the section \"Your Access Token\"\n",
    "    - Click the button \"Create My Access Token\". You can Read more about Oauth authorization.\n",
    "\n",
    " - You will now copy your unique four values into twitterstream.py (download this file on your computer). These values are your \"API Key\", your \"API secret\", your \"Access token\", and your \"Access token secret\". For now, open a new text file (.txt) called something like twitter_creds.txt and set the variables corresponding to the api key, api secret, access token, and access secret formatted like this:\n",
    "     - api_key = \"<Enter api key>\"\n",
    "     - api_secret = \"<Enter api secret>\"\n",
    "     - access_token_key = \"<Enter your access token key here>\"\n",
    "     - access_token_secret = \"<Enter your access token secret here>\""
   ]
  },
  {
   "cell_type": "markdown",
   "metadata": {},
   "source": [
    "## 3. Get coding"
   ]
  },
  {
   "cell_type": "markdown",
   "metadata": {},
   "source": [
    "[Return to Twitter Scraping Demo Home Page](https://bregreen.github.io/projects/Twitter_Scraping_Demo/#)"
   ]
  },
  {
   "cell_type": "markdown",
   "metadata": {},
   "source": [
    "[Return to Blog Home Page](https://bregreen.github.io/blog.html#)"
   ]
  },
  {
   "cell_type": "code",
   "execution_count": null,
   "metadata": {},
   "outputs": [],
   "source": []
  }
 ],
 "metadata": {
  "kernelspec": {
   "display_name": "Python 3",
   "language": "python",
   "name": "python3"
  },
  "language_info": {
   "codemirror_mode": {
    "name": "ipython",
    "version": 3
   },
   "file_extension": ".py",
   "mimetype": "text/x-python",
   "name": "python",
   "nbconvert_exporter": "python",
   "pygments_lexer": "ipython3",
   "version": "3.8.5"
  }
 },
 "nbformat": 4,
 "nbformat_minor": 4
}
